{
 "cells": [
  {
   "cell_type": "code",
   "execution_count": 1,
   "metadata": {},
   "outputs": [
    {
     "name": "stderr",
     "output_type": "stream",
     "text": [
      "C:\\Users\\ALEXANDROS\\Anaconda3\\lib\\site-packages\\h5py\\__init__.py:36: FutureWarning: Conversion of the second argument of issubdtype from `float` to `np.floating` is deprecated. In future, it will be treated as `np.float64 == np.dtype(float).type`.\n",
      "  from ._conv import register_converters as _register_converters\n",
      "Using TensorFlow backend.\n",
      "C:\\Users\\ALEXANDROS\\Anaconda3\\lib\\site-packages\\sklearn\\cross_validation.py:41: DeprecationWarning: This module was deprecated in version 0.18 in favor of the model_selection module into which all the refactored classes and functions are moved. Also note that the interface of the new CV iterators are different from that of this module. This module will be removed in 0.20.\n",
      "  \"This module will be removed in 0.20.\", DeprecationWarning)\n"
     ]
    }
   ],
   "source": [
    "import pandas as pd\n",
    "import numpy as np\n",
    "import matplotlib.pyplot as plt\n",
    "import csv as csv\n",
    "import os\n",
    "from sklearn.preprocessing import LabelEncoder, LabelBinarizer\n",
    "import keras\n",
    "from keras.utils.np_utils import to_categorical\n",
    "from sklearn.cluster import KMeans\n",
    "from sklearn.preprocessing import StandardScaler\n",
    "from sklearn.cross_validation import train_test_split\n",
    "from sklearn.model_selection import GridSearchCV\n",
    "from sklearn.svm import SVC\n",
    "from sklearn.ensemble import RandomForestClassifier\n",
    "from sklearn.tree import DecisionTreeClassifier\n",
    "from sklearn.naive_bayes import GaussianNB\n",
    "from sklearn.neighbors import KNeighborsClassifier\n",
    "from sklearn.linear_model import LogisticRegression\n",
    "from xgboost import XGBClassifier\n",
    "from keras.models import Sequential\n",
    "from keras.layers import Dense\n",
    "from keras.wrappers.scikit_learn import KerasClassifier\n",
    "from sklearn.model_selection import cross_val_score, StratifiedKFold\n",
    "from sklearn.metrics import accuracy_score, f1_score, roc_auc_score\n",
    "from collections import OrderedDict\n",
    "import warnings\n",
    "warnings.filterwarnings('ignore')"
   ]
  },
  {
   "cell_type": "code",
   "execution_count": 2,
   "metadata": {},
   "outputs": [
    {
     "name": "stdout",
     "output_type": "stream",
     "text": [
      "--------load train & test file------\n",
      "train dataset: (891, 12), test dataset (418, 11)\n"
     ]
    }
   ],
   "source": [
    "print('--------load train & test file------')\n",
    "train_dataset = pd.read_csv('input/train.csv')\n",
    "test_dataset = pd.read_csv('input/test.csv')\n",
    "print(f'train dataset: {str(train_dataset.shape)}, test dataset {str(test_dataset.shape)}')"
   ]
  },
  {
   "cell_type": "code",
   "execution_count": 3,
   "metadata": {},
   "outputs": [
    {
     "data": {
      "text/html": [
       "<div>\n",
       "<style scoped>\n",
       "    .dataframe tbody tr th:only-of-type {\n",
       "        vertical-align: middle;\n",
       "    }\n",
       "\n",
       "    .dataframe tbody tr th {\n",
       "        vertical-align: top;\n",
       "    }\n",
       "\n",
       "    .dataframe thead th {\n",
       "        text-align: right;\n",
       "    }\n",
       "</style>\n",
       "<table border=\"1\" class=\"dataframe\">\n",
       "  <thead>\n",
       "    <tr style=\"text-align: right;\">\n",
       "      <th></th>\n",
       "      <th>PassengerId</th>\n",
       "      <th>Survived</th>\n",
       "      <th>Pclass</th>\n",
       "      <th>Name</th>\n",
       "      <th>Sex</th>\n",
       "      <th>Age</th>\n",
       "      <th>SibSp</th>\n",
       "      <th>Parch</th>\n",
       "      <th>Ticket</th>\n",
       "      <th>Fare</th>\n",
       "      <th>Cabin</th>\n",
       "      <th>Embarked</th>\n",
       "    </tr>\n",
       "  </thead>\n",
       "  <tbody>\n",
       "    <tr>\n",
       "      <th>0</th>\n",
       "      <td>1</td>\n",
       "      <td>0</td>\n",
       "      <td>3</td>\n",
       "      <td>Braund, Mr. Owen Harris</td>\n",
       "      <td>male</td>\n",
       "      <td>22.0</td>\n",
       "      <td>1</td>\n",
       "      <td>0</td>\n",
       "      <td>A/5 21171</td>\n",
       "      <td>7.2500</td>\n",
       "      <td>NaN</td>\n",
       "      <td>S</td>\n",
       "    </tr>\n",
       "    <tr>\n",
       "      <th>1</th>\n",
       "      <td>2</td>\n",
       "      <td>1</td>\n",
       "      <td>1</td>\n",
       "      <td>Cumings, Mrs. John Bradley (Florence Briggs Th...</td>\n",
       "      <td>female</td>\n",
       "      <td>38.0</td>\n",
       "      <td>1</td>\n",
       "      <td>0</td>\n",
       "      <td>PC 17599</td>\n",
       "      <td>71.2833</td>\n",
       "      <td>C85</td>\n",
       "      <td>C</td>\n",
       "    </tr>\n",
       "    <tr>\n",
       "      <th>2</th>\n",
       "      <td>3</td>\n",
       "      <td>1</td>\n",
       "      <td>3</td>\n",
       "      <td>Heikkinen, Miss. Laina</td>\n",
       "      <td>female</td>\n",
       "      <td>26.0</td>\n",
       "      <td>0</td>\n",
       "      <td>0</td>\n",
       "      <td>STON/O2. 3101282</td>\n",
       "      <td>7.9250</td>\n",
       "      <td>NaN</td>\n",
       "      <td>S</td>\n",
       "    </tr>\n",
       "    <tr>\n",
       "      <th>3</th>\n",
       "      <td>4</td>\n",
       "      <td>1</td>\n",
       "      <td>1</td>\n",
       "      <td>Futrelle, Mrs. Jacques Heath (Lily May Peel)</td>\n",
       "      <td>female</td>\n",
       "      <td>35.0</td>\n",
       "      <td>1</td>\n",
       "      <td>0</td>\n",
       "      <td>113803</td>\n",
       "      <td>53.1000</td>\n",
       "      <td>C123</td>\n",
       "      <td>S</td>\n",
       "    </tr>\n",
       "    <tr>\n",
       "      <th>4</th>\n",
       "      <td>5</td>\n",
       "      <td>0</td>\n",
       "      <td>3</td>\n",
       "      <td>Allen, Mr. William Henry</td>\n",
       "      <td>male</td>\n",
       "      <td>35.0</td>\n",
       "      <td>0</td>\n",
       "      <td>0</td>\n",
       "      <td>373450</td>\n",
       "      <td>8.0500</td>\n",
       "      <td>NaN</td>\n",
       "      <td>S</td>\n",
       "    </tr>\n",
       "  </tbody>\n",
       "</table>\n",
       "</div>"
      ],
      "text/plain": [
       "   PassengerId  Survived  Pclass  \\\n",
       "0            1         0       3   \n",
       "1            2         1       1   \n",
       "2            3         1       3   \n",
       "3            4         1       1   \n",
       "4            5         0       3   \n",
       "\n",
       "                                                Name     Sex   Age  SibSp  \\\n",
       "0                            Braund, Mr. Owen Harris    male  22.0      1   \n",
       "1  Cumings, Mrs. John Bradley (Florence Briggs Th...  female  38.0      1   \n",
       "2                             Heikkinen, Miss. Laina  female  26.0      0   \n",
       "3       Futrelle, Mrs. Jacques Heath (Lily May Peel)  female  35.0      1   \n",
       "4                           Allen, Mr. William Henry    male  35.0      0   \n",
       "\n",
       "   Parch            Ticket     Fare Cabin Embarked  \n",
       "0      0         A/5 21171   7.2500   NaN        S  \n",
       "1      0          PC 17599  71.2833   C85        C  \n",
       "2      0  STON/O2. 3101282   7.9250   NaN        S  \n",
       "3      0            113803  53.1000  C123        S  \n",
       "4      0            373450   8.0500   NaN        S  "
      ]
     },
     "execution_count": 3,
     "metadata": {},
     "output_type": "execute_result"
    }
   ],
   "source": [
    "train_dataset.head()"
   ]
  },
  {
   "cell_type": "code",
   "execution_count": 4,
   "metadata": {},
   "outputs": [
    {
     "data": {
      "text/html": [
       "<div>\n",
       "<style scoped>\n",
       "    .dataframe tbody tr th:only-of-type {\n",
       "        vertical-align: middle;\n",
       "    }\n",
       "\n",
       "    .dataframe tbody tr th {\n",
       "        vertical-align: top;\n",
       "    }\n",
       "\n",
       "    .dataframe thead th {\n",
       "        text-align: right;\n",
       "    }\n",
       "</style>\n",
       "<table border=\"1\" class=\"dataframe\">\n",
       "  <thead>\n",
       "    <tr style=\"text-align: right;\">\n",
       "      <th></th>\n",
       "      <th>PassengerId</th>\n",
       "      <th>Pclass</th>\n",
       "      <th>Name</th>\n",
       "      <th>Sex</th>\n",
       "      <th>Age</th>\n",
       "      <th>SibSp</th>\n",
       "      <th>Parch</th>\n",
       "      <th>Ticket</th>\n",
       "      <th>Fare</th>\n",
       "      <th>Cabin</th>\n",
       "      <th>Embarked</th>\n",
       "    </tr>\n",
       "  </thead>\n",
       "  <tbody>\n",
       "    <tr>\n",
       "      <th>0</th>\n",
       "      <td>892</td>\n",
       "      <td>3</td>\n",
       "      <td>Kelly, Mr. James</td>\n",
       "      <td>male</td>\n",
       "      <td>34.5</td>\n",
       "      <td>0</td>\n",
       "      <td>0</td>\n",
       "      <td>330911</td>\n",
       "      <td>7.8292</td>\n",
       "      <td>NaN</td>\n",
       "      <td>Q</td>\n",
       "    </tr>\n",
       "    <tr>\n",
       "      <th>1</th>\n",
       "      <td>893</td>\n",
       "      <td>3</td>\n",
       "      <td>Wilkes, Mrs. James (Ellen Needs)</td>\n",
       "      <td>female</td>\n",
       "      <td>47.0</td>\n",
       "      <td>1</td>\n",
       "      <td>0</td>\n",
       "      <td>363272</td>\n",
       "      <td>7.0000</td>\n",
       "      <td>NaN</td>\n",
       "      <td>S</td>\n",
       "    </tr>\n",
       "    <tr>\n",
       "      <th>2</th>\n",
       "      <td>894</td>\n",
       "      <td>2</td>\n",
       "      <td>Myles, Mr. Thomas Francis</td>\n",
       "      <td>male</td>\n",
       "      <td>62.0</td>\n",
       "      <td>0</td>\n",
       "      <td>0</td>\n",
       "      <td>240276</td>\n",
       "      <td>9.6875</td>\n",
       "      <td>NaN</td>\n",
       "      <td>Q</td>\n",
       "    </tr>\n",
       "    <tr>\n",
       "      <th>3</th>\n",
       "      <td>895</td>\n",
       "      <td>3</td>\n",
       "      <td>Wirz, Mr. Albert</td>\n",
       "      <td>male</td>\n",
       "      <td>27.0</td>\n",
       "      <td>0</td>\n",
       "      <td>0</td>\n",
       "      <td>315154</td>\n",
       "      <td>8.6625</td>\n",
       "      <td>NaN</td>\n",
       "      <td>S</td>\n",
       "    </tr>\n",
       "    <tr>\n",
       "      <th>4</th>\n",
       "      <td>896</td>\n",
       "      <td>3</td>\n",
       "      <td>Hirvonen, Mrs. Alexander (Helga E Lindqvist)</td>\n",
       "      <td>female</td>\n",
       "      <td>22.0</td>\n",
       "      <td>1</td>\n",
       "      <td>1</td>\n",
       "      <td>3101298</td>\n",
       "      <td>12.2875</td>\n",
       "      <td>NaN</td>\n",
       "      <td>S</td>\n",
       "    </tr>\n",
       "  </tbody>\n",
       "</table>\n",
       "</div>"
      ],
      "text/plain": [
       "   PassengerId  Pclass                                          Name     Sex  \\\n",
       "0          892       3                              Kelly, Mr. James    male   \n",
       "1          893       3              Wilkes, Mrs. James (Ellen Needs)  female   \n",
       "2          894       2                     Myles, Mr. Thomas Francis    male   \n",
       "3          895       3                              Wirz, Mr. Albert    male   \n",
       "4          896       3  Hirvonen, Mrs. Alexander (Helga E Lindqvist)  female   \n",
       "\n",
       "    Age  SibSp  Parch   Ticket     Fare Cabin Embarked  \n",
       "0  34.5      0      0   330911   7.8292   NaN        Q  \n",
       "1  47.0      1      0   363272   7.0000   NaN        S  \n",
       "2  62.0      0      0   240276   9.6875   NaN        Q  \n",
       "3  27.0      0      0   315154   8.6625   NaN        S  \n",
       "4  22.0      1      1  3101298  12.2875   NaN        S  "
      ]
     },
     "execution_count": 4,
     "metadata": {},
     "output_type": "execute_result"
    }
   ],
   "source": [
    "test_dataset.head()"
   ]
  },
  {
   "cell_type": "code",
   "execution_count": 5,
   "metadata": {},
   "outputs": [
    {
     "data": {
      "text/html": [
       "<div>\n",
       "<style scoped>\n",
       "    .dataframe tbody tr th:only-of-type {\n",
       "        vertical-align: middle;\n",
       "    }\n",
       "\n",
       "    .dataframe tbody tr th {\n",
       "        vertical-align: top;\n",
       "    }\n",
       "\n",
       "    .dataframe thead th {\n",
       "        text-align: right;\n",
       "    }\n",
       "</style>\n",
       "<table border=\"1\" class=\"dataframe\">\n",
       "  <thead>\n",
       "    <tr style=\"text-align: right;\">\n",
       "      <th></th>\n",
       "      <th>PassengerId</th>\n",
       "      <th>Survived</th>\n",
       "      <th>Pclass</th>\n",
       "      <th>Age</th>\n",
       "      <th>SibSp</th>\n",
       "      <th>Parch</th>\n",
       "      <th>Fare</th>\n",
       "    </tr>\n",
       "  </thead>\n",
       "  <tbody>\n",
       "    <tr>\n",
       "      <th>count</th>\n",
       "      <td>891.000000</td>\n",
       "      <td>891.000000</td>\n",
       "      <td>891.000000</td>\n",
       "      <td>714.000000</td>\n",
       "      <td>891.000000</td>\n",
       "      <td>891.000000</td>\n",
       "      <td>891.000000</td>\n",
       "    </tr>\n",
       "    <tr>\n",
       "      <th>mean</th>\n",
       "      <td>446.000000</td>\n",
       "      <td>0.383838</td>\n",
       "      <td>2.308642</td>\n",
       "      <td>29.699118</td>\n",
       "      <td>0.523008</td>\n",
       "      <td>0.381594</td>\n",
       "      <td>32.204208</td>\n",
       "    </tr>\n",
       "    <tr>\n",
       "      <th>std</th>\n",
       "      <td>257.353842</td>\n",
       "      <td>0.486592</td>\n",
       "      <td>0.836071</td>\n",
       "      <td>14.526497</td>\n",
       "      <td>1.102743</td>\n",
       "      <td>0.806057</td>\n",
       "      <td>49.693429</td>\n",
       "    </tr>\n",
       "    <tr>\n",
       "      <th>min</th>\n",
       "      <td>1.000000</td>\n",
       "      <td>0.000000</td>\n",
       "      <td>1.000000</td>\n",
       "      <td>0.420000</td>\n",
       "      <td>0.000000</td>\n",
       "      <td>0.000000</td>\n",
       "      <td>0.000000</td>\n",
       "    </tr>\n",
       "    <tr>\n",
       "      <th>25%</th>\n",
       "      <td>223.500000</td>\n",
       "      <td>0.000000</td>\n",
       "      <td>2.000000</td>\n",
       "      <td>20.125000</td>\n",
       "      <td>0.000000</td>\n",
       "      <td>0.000000</td>\n",
       "      <td>7.910400</td>\n",
       "    </tr>\n",
       "    <tr>\n",
       "      <th>50%</th>\n",
       "      <td>446.000000</td>\n",
       "      <td>0.000000</td>\n",
       "      <td>3.000000</td>\n",
       "      <td>28.000000</td>\n",
       "      <td>0.000000</td>\n",
       "      <td>0.000000</td>\n",
       "      <td>14.454200</td>\n",
       "    </tr>\n",
       "    <tr>\n",
       "      <th>75%</th>\n",
       "      <td>668.500000</td>\n",
       "      <td>1.000000</td>\n",
       "      <td>3.000000</td>\n",
       "      <td>38.000000</td>\n",
       "      <td>1.000000</td>\n",
       "      <td>0.000000</td>\n",
       "      <td>31.000000</td>\n",
       "    </tr>\n",
       "    <tr>\n",
       "      <th>max</th>\n",
       "      <td>891.000000</td>\n",
       "      <td>1.000000</td>\n",
       "      <td>3.000000</td>\n",
       "      <td>80.000000</td>\n",
       "      <td>8.000000</td>\n",
       "      <td>6.000000</td>\n",
       "      <td>512.329200</td>\n",
       "    </tr>\n",
       "  </tbody>\n",
       "</table>\n",
       "</div>"
      ],
      "text/plain": [
       "       PassengerId    Survived      Pclass         Age       SibSp  \\\n",
       "count   891.000000  891.000000  891.000000  714.000000  891.000000   \n",
       "mean    446.000000    0.383838    2.308642   29.699118    0.523008   \n",
       "std     257.353842    0.486592    0.836071   14.526497    1.102743   \n",
       "min       1.000000    0.000000    1.000000    0.420000    0.000000   \n",
       "25%     223.500000    0.000000    2.000000   20.125000    0.000000   \n",
       "50%     446.000000    0.000000    3.000000   28.000000    0.000000   \n",
       "75%     668.500000    1.000000    3.000000   38.000000    1.000000   \n",
       "max     891.000000    1.000000    3.000000   80.000000    8.000000   \n",
       "\n",
       "            Parch        Fare  \n",
       "count  891.000000  891.000000  \n",
       "mean     0.381594   32.204208  \n",
       "std      0.806057   49.693429  \n",
       "min      0.000000    0.000000  \n",
       "25%      0.000000    7.910400  \n",
       "50%      0.000000   14.454200  \n",
       "75%      0.000000   31.000000  \n",
       "max      6.000000  512.329200  "
      ]
     },
     "execution_count": 5,
     "metadata": {},
     "output_type": "execute_result"
    }
   ],
   "source": [
    "train_dataset.describe()"
   ]
  },
  {
   "cell_type": "code",
   "execution_count": 6,
   "metadata": {},
   "outputs": [
    {
     "data": {
      "text/html": [
       "<div>\n",
       "<style scoped>\n",
       "    .dataframe tbody tr th:only-of-type {\n",
       "        vertical-align: middle;\n",
       "    }\n",
       "\n",
       "    .dataframe tbody tr th {\n",
       "        vertical-align: top;\n",
       "    }\n",
       "\n",
       "    .dataframe thead th {\n",
       "        text-align: right;\n",
       "    }\n",
       "</style>\n",
       "<table border=\"1\" class=\"dataframe\">\n",
       "  <thead>\n",
       "    <tr style=\"text-align: right;\">\n",
       "      <th></th>\n",
       "      <th>PassengerId</th>\n",
       "      <th>Pclass</th>\n",
       "      <th>Age</th>\n",
       "      <th>SibSp</th>\n",
       "      <th>Parch</th>\n",
       "      <th>Fare</th>\n",
       "    </tr>\n",
       "  </thead>\n",
       "  <tbody>\n",
       "    <tr>\n",
       "      <th>count</th>\n",
       "      <td>418.000000</td>\n",
       "      <td>418.000000</td>\n",
       "      <td>332.000000</td>\n",
       "      <td>418.000000</td>\n",
       "      <td>418.000000</td>\n",
       "      <td>417.000000</td>\n",
       "    </tr>\n",
       "    <tr>\n",
       "      <th>mean</th>\n",
       "      <td>1100.500000</td>\n",
       "      <td>2.265550</td>\n",
       "      <td>30.272590</td>\n",
       "      <td>0.447368</td>\n",
       "      <td>0.392344</td>\n",
       "      <td>35.627188</td>\n",
       "    </tr>\n",
       "    <tr>\n",
       "      <th>std</th>\n",
       "      <td>120.810458</td>\n",
       "      <td>0.841838</td>\n",
       "      <td>14.181209</td>\n",
       "      <td>0.896760</td>\n",
       "      <td>0.981429</td>\n",
       "      <td>55.907576</td>\n",
       "    </tr>\n",
       "    <tr>\n",
       "      <th>min</th>\n",
       "      <td>892.000000</td>\n",
       "      <td>1.000000</td>\n",
       "      <td>0.170000</td>\n",
       "      <td>0.000000</td>\n",
       "      <td>0.000000</td>\n",
       "      <td>0.000000</td>\n",
       "    </tr>\n",
       "    <tr>\n",
       "      <th>25%</th>\n",
       "      <td>996.250000</td>\n",
       "      <td>1.000000</td>\n",
       "      <td>21.000000</td>\n",
       "      <td>0.000000</td>\n",
       "      <td>0.000000</td>\n",
       "      <td>7.895800</td>\n",
       "    </tr>\n",
       "    <tr>\n",
       "      <th>50%</th>\n",
       "      <td>1100.500000</td>\n",
       "      <td>3.000000</td>\n",
       "      <td>27.000000</td>\n",
       "      <td>0.000000</td>\n",
       "      <td>0.000000</td>\n",
       "      <td>14.454200</td>\n",
       "    </tr>\n",
       "    <tr>\n",
       "      <th>75%</th>\n",
       "      <td>1204.750000</td>\n",
       "      <td>3.000000</td>\n",
       "      <td>39.000000</td>\n",
       "      <td>1.000000</td>\n",
       "      <td>0.000000</td>\n",
       "      <td>31.500000</td>\n",
       "    </tr>\n",
       "    <tr>\n",
       "      <th>max</th>\n",
       "      <td>1309.000000</td>\n",
       "      <td>3.000000</td>\n",
       "      <td>76.000000</td>\n",
       "      <td>8.000000</td>\n",
       "      <td>9.000000</td>\n",
       "      <td>512.329200</td>\n",
       "    </tr>\n",
       "  </tbody>\n",
       "</table>\n",
       "</div>"
      ],
      "text/plain": [
       "       PassengerId      Pclass         Age       SibSp       Parch        Fare\n",
       "count   418.000000  418.000000  332.000000  418.000000  418.000000  417.000000\n",
       "mean   1100.500000    2.265550   30.272590    0.447368    0.392344   35.627188\n",
       "std     120.810458    0.841838   14.181209    0.896760    0.981429   55.907576\n",
       "min     892.000000    1.000000    0.170000    0.000000    0.000000    0.000000\n",
       "25%     996.250000    1.000000   21.000000    0.000000    0.000000    7.895800\n",
       "50%    1100.500000    3.000000   27.000000    0.000000    0.000000   14.454200\n",
       "75%    1204.750000    3.000000   39.000000    1.000000    0.000000   31.500000\n",
       "max    1309.000000    3.000000   76.000000    8.000000    9.000000  512.329200"
      ]
     },
     "execution_count": 6,
     "metadata": {},
     "output_type": "execute_result"
    }
   ],
   "source": [
    "test_dataset.describe()"
   ]
  },
  {
   "cell_type": "code",
   "execution_count": 7,
   "metadata": {},
   "outputs": [
    {
     "data": {
      "text/plain": [
       "Index(['PassengerId', 'Survived', 'Pclass', 'Name', 'Sex', 'Age', 'SibSp',\n",
       "       'Parch', 'Ticket', 'Fare', 'Cabin', 'Embarked'],\n",
       "      dtype='object')"
      ]
     },
     "execution_count": 7,
     "metadata": {},
     "output_type": "execute_result"
    }
   ],
   "source": [
    "train_dataset.columns"
   ]
  },
  {
   "cell_type": "code",
   "execution_count": 8,
   "metadata": {},
   "outputs": [
    {
     "name": "stdout",
     "output_type": "stream",
     "text": [
      "----train dataset column types information-------\n",
      "          Count Column Type\n",
      "0   PassengerId       int64\n",
      "1      Survived       int64\n",
      "2        Pclass       int64\n",
      "3          Name      object\n",
      "4           Sex      object\n",
      "5           Age     float64\n",
      "6         SibSp       int64\n",
      "7         Parch       int64\n",
      "8        Ticket      object\n",
      "9          Fare     float64\n",
      "10        Cabin      object\n",
      "11     Embarked      object\n",
      "  Column Type  Count\n",
      "0       int64      5\n",
      "1     float64      2\n",
      "2      object      5\n",
      "------problems with train & test file------\n",
      "Unique ID for each passenger.\n",
      "Train and test sets are distinct.\n",
      "There are missing values on both sets.\n"
     ]
    }
   ],
   "source": [
    "print('----train dataset column types information-------')\n",
    "dtype_df = train_dataset.dtypes.reset_index()\n",
    "dtype_df.columns = [\"Count\", \"Column Type\"]\n",
    "print(dtype_df)\n",
    "print(dtype_df.groupby(\"Column Type\").aggregate('count').reset_index())\n",
    "\n",
    "print('------problems with train & test file------')\n",
    "if train_dataset.PassengerId.nunique() == train_dataset.shape[0]:\n",
    "    print('Unique ID for each passenger.')\n",
    "else:\n",
    "    print('Problem with IDs!')\n",
    "\n",
    "if len(np.intersect1d(train_dataset.PassengerId.values, test_dataset.PassengerId.values))== 0:\n",
    "    print('Train and test sets are distinct.')\n",
    "else:\n",
    "    print('Train and test sets are not distinct.')\n",
    "\n",
    "if train_dataset.count().min() == train_dataset.shape[0] and test_dataset.count().min() == test_dataset.shape[0] :\n",
    "    print('No missing values.')\n",
    "elif test_dataset.count().min() == test_dataset.shape[0] and train_dataset.count().min() != train_dataset.shape[0]:\n",
    "    print('Training set has mising values.')  \n",
    "    trainSetHasNan = True\n",
    "elif train_dataset.count().min() == train_dataset.shape[0] and test_dataset.count().min() != test_dataset.shape[0]:\n",
    "    print('Test set has mising values.') \n",
    "    testSetHasNan = True\n",
    "else:\n",
    "    print('There are missing values on both sets.')\n",
    "    datasetsHaveNan = True"
   ]
  },
  {
   "cell_type": "markdown",
   "metadata": {},
   "source": [
    "# Exploratory Data Analysis"
   ]
  },
  {
   "cell_type": "code",
   "execution_count": 9,
   "metadata": {},
   "outputs": [
    {
     "name": "stdout",
     "output_type": "stream",
     "text": [
      "--------Exploratory Data Analysis------\n",
      "Missing values in both data sets:\n",
      "          Training Set  Test Set\n",
      "Age                177        86\n",
      "Cabin              687       327\n",
      "Embarked             2         0\n",
      "Fare                 0         1\n"
     ]
    }
   ],
   "source": [
    "print(\"--------Exploratory Data Analysis------\")\n",
    "\n",
    "print(\"Missing values in both data sets:\")\n",
    "nans = pd.concat([train_dataset.isnull().sum(), test_dataset.isnull().sum()],\n",
    "                 axis=1,\n",
    "                 keys=['Training Set', 'Test Set'])\n",
    "print(nans[nans.sum(axis=1)>0].astype(int))\n",
    "\n",
    "train_nan = train_dataset.isnull().sum()\n",
    "train_nan_col = list(train_nan[train_nan!=0].index)\n",
    "\n",
    "directory = \"./figures\"\n",
    "if not os.path.exists(directory):\n",
    "    os.makedirs(directory)\n",
    "\n"
   ]
  },
  {
   "cell_type": "code",
   "execution_count": 10,
   "metadata": {},
   "outputs": [
    {
     "name": "stdout",
     "output_type": "stream",
     "text": [
      "   Pclass  Survived\n",
      "0       1  0.629630\n",
      "1       2  0.472826\n",
      "2       3  0.242363\n"
     ]
    },
    {
     "data": {
      "image/png": "[encoded data removed]",
      "text/plain": [
       "<matplotlib.figure.Figure at 0x269688190b8>"
      ]
     },
     "metadata": {},
     "output_type": "display_data"
    },
    {
     "data": {
      "text/plain": [
       "<matplotlib.figure.Figure at 0x26968916940>"
      ]
     },
     "metadata": {},
     "output_type": "display_data"
    }
   ],
   "source": [
    "pclass_survived = train_dataset[['Pclass', 'Survived']].groupby(['Pclass'], as_index=False).mean()\n",
    "print(pclass_survived.sort_values(by='Survived', ascending=False))\n",
    "plt.bar(pclass_survived['Pclass'], pclass_survived['Survived'])\n",
    "plt.title(\"Pclass_Survived\")\n",
    "plt.xticks(range(1,len(pclass_survived['Pclass'])+1), pclass_survived['Pclass'])\n",
    "plt.savefig(directory+\"/Pclass_Survived\")\n",
    "plt.show()\n",
    "plt.clf()"
   ]
  },
  {
   "cell_type": "code",
   "execution_count": 11,
   "metadata": {},
   "outputs": [
    {
     "name": "stdout",
     "output_type": "stream",
     "text": [
      "      Sex  Survived\n",
      "0  female  0.742038\n",
      "1    male  0.188908\n"
     ]
    },
    {
     "data": {
      "image/png": "[encoded data removed]",
      "text/plain": [
       "<matplotlib.figure.Figure at 0x26968900f98>"
      ]
     },
     "metadata": {},
     "output_type": "display_data"
    },
    {
     "data": {
      "text/plain": [
       "<matplotlib.figure.Figure at 0x269689c6f28>"
      ]
     },
     "metadata": {},
     "output_type": "display_data"
    }
   ],
   "source": [
    "sex_survived = train_dataset[['Sex', 'Survived']].groupby(['Sex'], as_index=False).mean()\n",
    "print(sex_survived.sort_values(by='Survived', ascending=False))\n",
    "plt.bar(sex_survived['Sex'], sex_survived['Survived'])\n",
    "plt.title(\"Sex_Survived\")\n",
    "plt.xticks(range(len(sex_survived['Sex'])), sex_survived['Sex'])\n",
    "plt.savefig(directory+\"/Sex_Survived\")\n",
    "plt.show()\n",
    "plt.clf()"
   ]
  },
  {
   "cell_type": "code",
   "execution_count": 12,
   "metadata": {},
   "outputs": [
    {
     "name": "stdout",
     "output_type": "stream",
     "text": [
      "   SibSp  Survived\n",
      "1      1  0.535885\n",
      "2      2  0.464286\n",
      "0      0  0.345395\n",
      "3      3  0.250000\n",
      "4      4  0.166667\n",
      "5      5  0.000000\n",
      "6      8  0.000000\n"
     ]
    },
    {
     "data": {
      "image/png": "[encoded data removed]",
      "text/plain": [
       "<matplotlib.figure.Figure at 0x2696897a7f0>"
      ]
     },
     "metadata": {},
     "output_type": "display_data"
    },
    {
     "data": {
      "text/plain": [
       "<matplotlib.figure.Figure at 0x2696edfe8d0>"
      ]
     },
     "metadata": {},
     "output_type": "display_data"
    }
   ],
   "source": [
    "sibSp_survived = train_dataset[[\"SibSp\", \"Survived\"]].groupby(['SibSp'], as_index=False).mean()\n",
    "print(sibSp_survived.sort_values(by='Survived', ascending=False))\n",
    "plt.bar(sibSp_survived['SibSp'], sibSp_survived['Survived'])\n",
    "plt.title(\"SibSp_Survived\")\n",
    "plt.xticks(range(len(sibSp_survived['SibSp'])), sibSp_survived['SibSp'])\n",
    "plt.savefig(directory+\"/SibSp_Survived\")\n",
    "plt.show()\n",
    "plt.clf()"
   ]
  },
  {
   "cell_type": "code",
   "execution_count": 13,
   "metadata": {},
   "outputs": [
    {
     "name": "stdout",
     "output_type": "stream",
     "text": [
      "   Parch  Survived\n",
      "3      3  0.600000\n",
      "1      1  0.550847\n",
      "2      2  0.500000\n",
      "0      0  0.343658\n",
      "5      5  0.200000\n",
      "4      4  0.000000\n",
      "6      6  0.000000\n"
     ]
    },
    {
     "data": {
      "image/png": "[encoded data removed]",
      "text/plain": [
       "<matplotlib.figure.Figure at 0x269689ed400>"
      ]
     },
     "metadata": {},
     "output_type": "display_data"
    },
    {
     "data": {
      "text/plain": [
       "<matplotlib.figure.Figure at 0x2696eeaacc0>"
      ]
     },
     "metadata": {},
     "output_type": "display_data"
    }
   ],
   "source": [
    "parch_survived = train_dataset[[\"Parch\", \"Survived\"]].groupby(['Parch'], as_index=False).mean()\n",
    "print(parch_survived.sort_values(by='Survived', ascending=False))\n",
    "plt.bar(parch_survived['Parch'], parch_survived['Survived'])\n",
    "plt.title(\"Parch_Survived\")\n",
    "plt.xticks(range(len(parch_survived['Parch'])), parch_survived['Parch'])\n",
    "plt.savefig(directory+\"/Parch_Survived\")\n",
    "plt.show()\n",
    "plt.clf()"
   ]
  },
  {
   "cell_type": "code",
   "execution_count": 14,
   "metadata": {},
   "outputs": [
    {
     "name": "stdout",
     "output_type": "stream",
     "text": [
      "  Embarked  Survived\n",
      "0        C  0.553571\n",
      "1        Q  0.389610\n",
      "2        S  0.336957\n"
     ]
    },
    {
     "data": {
      "image/png": "[encoded data removed]",
      "text/plain": [
       "<matplotlib.figure.Figure at 0x2696ee46940>"
      ]
     },
     "metadata": {},
     "output_type": "display_data"
    },
    {
     "data": {
      "text/plain": [
       "<matplotlib.figure.Figure at 0x2696eeb5630>"
      ]
     },
     "metadata": {},
     "output_type": "display_data"
    }
   ],
   "source": [
    "embarked_survived = train_dataset[[\"Embarked\", \"Survived\"]].groupby(['Embarked'], as_index=False).mean()\n",
    "print(embarked_survived.sort_values(by='Survived', ascending=False))\n",
    "plt.bar(embarked_survived['Embarked'], embarked_survived['Survived'])\n",
    "plt.title(\"Embarked_Survived\")\n",
    "plt.xticks(range(len(embarked_survived['Embarked'])), embarked_survived['Embarked'])\n",
    "plt.savefig(directory+\"/Embarked_Survived\")\n",
    "plt.show()\n",
    "plt.clf()"
   ]
  },
  {
   "cell_type": "markdown",
   "metadata": {},
   "source": [
    "# Feature Engineering"
   ]
  },
  {
   "cell_type": "code",
   "execution_count": 15,
   "metadata": {},
   "outputs": [
    {
     "name": "stdout",
     "output_type": "stream",
     "text": [
      "--------Feature Engineering------\n",
      "Missing values in both data sets:\n",
      "          Training Set  Test Set\n",
      "Age                177        86\n",
      "Fare                 0         1\n",
      "Cabin              687       327\n",
      "Embarked             2         0\n"
     ]
    }
   ],
   "source": [
    "print(\"--------Feature Engineering------\")\n",
    "test_passenger_id = test_dataset['PassengerId']\n",
    "survived = train_dataset[\"Survived\"]\n",
    "train_dataset = train_dataset.drop(\"Survived\",axis=1)\n",
    "\n",
    "print(\"Missing values in both data sets:\")\n",
    "nans = pd.concat([train_dataset.isnull().sum(), test_dataset.isnull().sum()],\n",
    "                 axis=1,\n",
    "                 keys=['Training Set', 'Test Set'])\n",
    "print(nans[nans.sum(axis=1)>0].astype(int))"
   ]
  },
  {
   "cell_type": "code",
   "execution_count": 16,
   "metadata": {},
   "outputs": [
    {
     "data": {
      "text/html": [
       "<div>\n",
       "<style scoped>\n",
       "    .dataframe tbody tr th:only-of-type {\n",
       "        vertical-align: middle;\n",
       "    }\n",
       "\n",
       "    .dataframe tbody tr th {\n",
       "        vertical-align: top;\n",
       "    }\n",
       "\n",
       "    .dataframe thead th {\n",
       "        text-align: right;\n",
       "    }\n",
       "</style>\n",
       "<table border=\"1\" class=\"dataframe\">\n",
       "  <thead>\n",
       "    <tr style=\"text-align: right;\">\n",
       "      <th></th>\n",
       "      <th>PassengerId</th>\n",
       "      <th>Pclass</th>\n",
       "      <th>Name</th>\n",
       "      <th>Sex</th>\n",
       "      <th>Age</th>\n",
       "      <th>SibSp</th>\n",
       "      <th>Parch</th>\n",
       "      <th>Ticket</th>\n",
       "      <th>Fare</th>\n",
       "      <th>Cabin</th>\n",
       "      <th>Embarked</th>\n",
       "    </tr>\n",
       "  </thead>\n",
       "  <tbody>\n",
       "    <tr>\n",
       "      <th>152</th>\n",
       "      <td>1044</td>\n",
       "      <td>3</td>\n",
       "      <td>Storey, Mr. Thomas</td>\n",
       "      <td>male</td>\n",
       "      <td>60.5</td>\n",
       "      <td>0</td>\n",
       "      <td>0</td>\n",
       "      <td>3701</td>\n",
       "      <td>NaN</td>\n",
       "      <td>NaN</td>\n",
       "      <td>S</td>\n",
       "    </tr>\n",
       "  </tbody>\n",
       "</table>\n",
       "</div>"
      ],
      "text/plain": [
       "     PassengerId  Pclass                Name   Sex   Age  SibSp  Parch Ticket  \\\n",
       "152         1044       3  Storey, Mr. Thomas  male  60.5      0      0   3701   \n",
       "\n",
       "     Fare Cabin Embarked  \n",
       "152   NaN   NaN        S  "
      ]
     },
     "execution_count": 16,
     "metadata": {},
     "output_type": "execute_result"
    }
   ],
   "source": [
    "test_dataset[test_dataset['Fare'].isnull()]"
   ]
  },
  {
   "cell_type": "code",
   "execution_count": 17,
   "metadata": {},
   "outputs": [],
   "source": [
    "pclass2fare_train = train_dataset[[\"Pclass\", \"Fare\"]].groupby(['Pclass'], as_index=False).mean()\n",
    "find_fare_train = pclass2fare_train[pclass2fare_train[\"Pclass\"] == 3]['Fare'].values[0]\n",
    "pclass2fare_test = test_dataset[[\"Pclass\", \"Fare\"]].groupby(['Pclass'], as_index=False).mean()\n",
    "find_fare_test = pclass2fare_test[pclass2fare_test[\"Pclass\"] == 3]['Fare'].values[0]\n",
    "find_fare = (find_fare_train + find_fare_test)/2\n",
    "test_dataset[\"Fare\"].fillna(find_fare, inplace=True)"
   ]
  },
  {
   "cell_type": "code",
   "execution_count": 18,
   "metadata": {},
   "outputs": [],
   "source": [
    "titles = list(set(train_dataset.Name.str.extract(' ([A-Za-z]+)\\.', expand=False).unique().tolist() + test_dataset.Name.str.extract(' ([A-Za-z]+)\\.', expand=False).unique().tolist()))\n",
    "\n",
    "titles_train = train_dataset.Name.str.extract(' ([A-Za-z]+)\\.', expand=False).value_counts()\n",
    "titles_test = test_dataset.Name.str.extract(' ([A-Za-z]+)\\.', expand=False).value_counts()"
   ]
  },
  {
   "cell_type": "code",
   "execution_count": 19,
   "metadata": {},
   "outputs": [
    {
     "data": {
      "text/html": [
       "<div>\n",
       "<style scoped>\n",
       "    .dataframe tbody tr th:only-of-type {\n",
       "        vertical-align: middle;\n",
       "    }\n",
       "\n",
       "    .dataframe tbody tr th {\n",
       "        vertical-align: top;\n",
       "    }\n",
       "\n",
       "    .dataframe thead th {\n",
       "        text-align: right;\n",
       "    }\n",
       "</style>\n",
       "<table border=\"1\" class=\"dataframe\">\n",
       "  <thead>\n",
       "    <tr style=\"text-align: right;\">\n",
       "      <th></th>\n",
       "      <th>Name</th>\n",
       "      <th>Name</th>\n",
       "    </tr>\n",
       "  </thead>\n",
       "  <tbody>\n",
       "    <tr>\n",
       "      <th>Capt</th>\n",
       "      <td>1</td>\n",
       "      <td>0</td>\n",
       "    </tr>\n",
       "    <tr>\n",
       "      <th>Col</th>\n",
       "      <td>2</td>\n",
       "      <td>2</td>\n",
       "    </tr>\n",
       "    <tr>\n",
       "      <th>Countess</th>\n",
       "      <td>1</td>\n",
       "      <td>0</td>\n",
       "    </tr>\n",
       "    <tr>\n",
       "      <th>Don</th>\n",
       "      <td>1</td>\n",
       "      <td>0</td>\n",
       "    </tr>\n",
       "    <tr>\n",
       "      <th>Dona</th>\n",
       "      <td>0</td>\n",
       "      <td>1</td>\n",
       "    </tr>\n",
       "    <tr>\n",
       "      <th>Dr</th>\n",
       "      <td>7</td>\n",
       "      <td>1</td>\n",
       "    </tr>\n",
       "    <tr>\n",
       "      <th>Jonkheer</th>\n",
       "      <td>1</td>\n",
       "      <td>0</td>\n",
       "    </tr>\n",
       "    <tr>\n",
       "      <th>Lady</th>\n",
       "      <td>1</td>\n",
       "      <td>0</td>\n",
       "    </tr>\n",
       "    <tr>\n",
       "      <th>Major</th>\n",
       "      <td>2</td>\n",
       "      <td>0</td>\n",
       "    </tr>\n",
       "    <tr>\n",
       "      <th>Master</th>\n",
       "      <td>40</td>\n",
       "      <td>21</td>\n",
       "    </tr>\n",
       "    <tr>\n",
       "      <th>Miss</th>\n",
       "      <td>182</td>\n",
       "      <td>78</td>\n",
       "    </tr>\n",
       "    <tr>\n",
       "      <th>Mlle</th>\n",
       "      <td>2</td>\n",
       "      <td>0</td>\n",
       "    </tr>\n",
       "    <tr>\n",
       "      <th>Mme</th>\n",
       "      <td>1</td>\n",
       "      <td>0</td>\n",
       "    </tr>\n",
       "    <tr>\n",
       "      <th>Mr</th>\n",
       "      <td>517</td>\n",
       "      <td>240</td>\n",
       "    </tr>\n",
       "    <tr>\n",
       "      <th>Mrs</th>\n",
       "      <td>125</td>\n",
       "      <td>72</td>\n",
       "    </tr>\n",
       "    <tr>\n",
       "      <th>Ms</th>\n",
       "      <td>1</td>\n",
       "      <td>1</td>\n",
       "    </tr>\n",
       "    <tr>\n",
       "      <th>Rev</th>\n",
       "      <td>6</td>\n",
       "      <td>2</td>\n",
       "    </tr>\n",
       "    <tr>\n",
       "      <th>Sir</th>\n",
       "      <td>1</td>\n",
       "      <td>0</td>\n",
       "    </tr>\n",
       "  </tbody>\n",
       "</table>\n",
       "</div>"
      ],
      "text/plain": [
       "          Name  Name\n",
       "Capt         1     0\n",
       "Col          2     2\n",
       "Countess     1     0\n",
       "Don          1     0\n",
       "Dona         0     1\n",
       "Dr           7     1\n",
       "Jonkheer     1     0\n",
       "Lady         1     0\n",
       "Major        2     0\n",
       "Master      40    21\n",
       "Miss       182    78\n",
       "Mlle         2     0\n",
       "Mme          1     0\n",
       "Mr         517   240\n",
       "Mrs        125    72\n",
       "Ms           1     1\n",
       "Rev          6     2\n",
       "Sir          1     0"
      ]
     },
     "execution_count": 19,
     "metadata": {},
     "output_type": "execute_result"
    }
   ],
   "source": [
    "pd.concat([titles_train,titles_test], axis = 1).fillna(0).astype(int)"
   ]
  },
  {
   "cell_type": "code",
   "execution_count": 20,
   "metadata": {},
   "outputs": [],
   "source": [
    "title_mapping = {k: \"Rare\" if k in ['Lady', 'Countess','Capt', 'Col', 'Don', 'Dr', 'Major', 'Rev', 'Sir', 'Jonkheer', 'Dona']\n",
    "                 else \"Miss\" if k in ['Mlle', 'Ms']\n",
    "                 else \"Mrs\" if k == \"Mme\"\n",
    "                 else k\n",
    "                 for k in titles}\n",
    "title_mapping2 = {\"Mr\": 1, \"Rare\" : 2, \"Master\": 3, \"Miss\": 4, \"Mrs\": 5}\n",
    "for dataset in [train_dataset, test_dataset]:\n",
    "    dataset['Title'] = dataset.Name.str.extract(' ([A-Za-z]+)\\.', expand=False)\n",
    "    dataset['Title'] = dataset['Title'].map(title_mapping)\n",
    "    dataset['Title'] = dataset['Title'].map(title_mapping2)\n",
    "    dataset['Title'] = dataset['Title'].fillna(0)\n",
    "    dataset['Title'] = dataset['Title'].astype(int)\n",
    "train_dataset = train_dataset.drop(\"Name\", axis = 1)\n",
    "test_dataset = test_dataset.drop(\"Name\", axis = 1)"
   ]
  },
  {
   "cell_type": "code",
   "execution_count": 21,
   "metadata": {},
   "outputs": [
    {
     "data": {
      "text/html": [
       "<div>\n",
       "<style scoped>\n",
       "    .dataframe tbody tr th:only-of-type {\n",
       "        vertical-align: middle;\n",
       "    }\n",
       "\n",
       "    .dataframe tbody tr th {\n",
       "        vertical-align: top;\n",
       "    }\n",
       "\n",
       "    .dataframe thead th {\n",
       "        text-align: right;\n",
       "    }\n",
       "</style>\n",
       "<table border=\"1\" class=\"dataframe\">\n",
       "  <thead>\n",
       "    <tr style=\"text-align: right;\">\n",
       "      <th></th>\n",
       "      <th>PassengerId</th>\n",
       "      <th>Pclass</th>\n",
       "      <th>Sex</th>\n",
       "      <th>Age</th>\n",
       "      <th>SibSp</th>\n",
       "      <th>Parch</th>\n",
       "      <th>Ticket</th>\n",
       "      <th>Fare</th>\n",
       "      <th>Cabin</th>\n",
       "      <th>Embarked</th>\n",
       "      <th>Title</th>\n",
       "    </tr>\n",
       "  </thead>\n",
       "  <tbody>\n",
       "    <tr>\n",
       "      <th>61</th>\n",
       "      <td>62</td>\n",
       "      <td>1</td>\n",
       "      <td>female</td>\n",
       "      <td>38.0</td>\n",
       "      <td>0</td>\n",
       "      <td>0</td>\n",
       "      <td>113572</td>\n",
       "      <td>80.0</td>\n",
       "      <td>B28</td>\n",
       "      <td>NaN</td>\n",
       "      <td>4</td>\n",
       "    </tr>\n",
       "    <tr>\n",
       "      <th>829</th>\n",
       "      <td>830</td>\n",
       "      <td>1</td>\n",
       "      <td>female</td>\n",
       "      <td>62.0</td>\n",
       "      <td>0</td>\n",
       "      <td>0</td>\n",
       "      <td>113572</td>\n",
       "      <td>80.0</td>\n",
       "      <td>B28</td>\n",
       "      <td>NaN</td>\n",
       "      <td>5</td>\n",
       "    </tr>\n",
       "  </tbody>\n",
       "</table>\n",
       "</div>"
      ],
      "text/plain": [
       "     PassengerId  Pclass     Sex   Age  SibSp  Parch  Ticket  Fare Cabin  \\\n",
       "61            62       1  female  38.0      0      0  113572  80.0   B28   \n",
       "829          830       1  female  62.0      0      0  113572  80.0   B28   \n",
       "\n",
       "    Embarked  Title  \n",
       "61       NaN      4  \n",
       "829      NaN      5  "
      ]
     },
     "execution_count": 21,
     "metadata": {},
     "output_type": "execute_result"
    }
   ],
   "source": [
    "train_dataset[train_dataset[\"Embarked\"].isnull()]"
   ]
  },
  {
   "cell_type": "code",
   "execution_count": 22,
   "metadata": {},
   "outputs": [],
   "source": [
    "train_dataset[\"Embarked\"].fillna('S', inplace=True)"
   ]
  },
  {
   "cell_type": "code",
   "execution_count": 23,
   "metadata": {},
   "outputs": [],
   "source": [
    "def create_labels(feature, train_dataset = train_dataset, test_dataset = test_dataset):\n",
    "    encoder = LabelEncoder()\n",
    "    train_dataset[feature] = encoder.fit_transform(train_dataset[feature].astype(str))\n",
    "    test_dataset[feature] = encoder.transform(test_dataset[feature].astype(str))\n",
    "    categorical_labels_embarked_train = to_categorical(train_dataset[feature], num_classes=encoder.classes_.shape[0])\n",
    "    categorical_labels_embarked_test = to_categorical(test_dataset[feature], num_classes=encoder.classes_.shape[0])\n",
    "    embarked_train = pd.DataFrame(data = categorical_labels_embarked_train, columns = encoder.classes_)\n",
    "    embarked_test = pd.DataFrame(data = categorical_labels_embarked_test, columns = encoder.classes_)\n",
    "    train_dataset = train_dataset.drop(feature, axis = 1)\n",
    "    test_dataset = test_dataset.drop(feature, axis = 1)\n",
    "    train_dataset = pd.concat([train_dataset, embarked_train], axis=1)\n",
    "    test_dataset = pd.concat([test_dataset, embarked_test], axis=1)\n",
    "    return train_dataset, test_dataset   "
   ]
  },
  {
   "cell_type": "code",
   "execution_count": 24,
   "metadata": {},
   "outputs": [],
   "source": [
    "train_dataset, test_dataset = create_labels(\"Embarked\")\n",
    "train_dataset['Sex'] = train_dataset['Sex'].map( {'female': 1, 'male': 0} ).astype(int)\n",
    "test_dataset['Sex'] = test_dataset['Sex'].map( {'female': 1, 'male': 0} ).astype(int)\n",
    "train_dataset['Cabin'] = train_dataset[\"Cabin\"].apply(lambda x: 0 if type(x) == float else 1)\n",
    "test_dataset['Cabin'] = test_dataset[\"Cabin\"].apply(lambda x: 0 if type(x) == float else 1)"
   ]
  },
  {
   "cell_type": "code",
   "execution_count": 25,
   "metadata": {},
   "outputs": [],
   "source": [
    "del train_dataset['Ticket'], test_dataset['Ticket'], train_dataset['PassengerId'], test_dataset['PassengerId']"
   ]
  },
  {
   "cell_type": "code",
   "execution_count": 26,
   "metadata": {},
   "outputs": [
    {
     "data": {
      "image/png": "[encoded data removed]",
      "text/plain": [
       "<matplotlib.figure.Figure at 0x2696ef1d7f0>"
      ]
     },
     "metadata": {},
     "output_type": "display_data"
    },
    {
     "data": {
      "text/plain": [
       "<matplotlib.figure.Figure at 0x2696881b780>"
      ]
     },
     "metadata": {},
     "output_type": "display_data"
    }
   ],
   "source": [
    "wcss = []\n",
    "X_train_group = train_dataset.drop(\"Age\", axis = 1).as_matrix()\n",
    "for i in range(1,10):\n",
    "    kmeans = KMeans(n_clusters = i, init = 'k-means++', random_state = 0)\n",
    "    kmeans.fit(X_train_group)\n",
    "    wcss.append(kmeans.inertia_)\n",
    "plt.plot(range(1,10), wcss)\n",
    "plt.title(\"Within sum of squares (Elbow Method)\")\n",
    "plt.xlabel('Number of clusters')\n",
    "plt.ylabel(\"WCSS\")\n",
    "plt.savefig(directory+\"/Clusters\")\n",
    "plt.show()\n",
    "plt.clf()"
   ]
  },
  {
   "cell_type": "code",
   "execution_count": 27,
   "metadata": {},
   "outputs": [
    {
     "name": "stdout",
     "output_type": "stream",
     "text": [
      "Insert the optimal number of clusters: 4\n"
     ]
    }
   ],
   "source": [
    "clusters = int(input(\"Insert the optimal number of clusters: \"))"
   ]
  },
  {
   "cell_type": "code",
   "execution_count": 28,
   "metadata": {},
   "outputs": [],
   "source": [
    "kmeans = KMeans(n_clusters = clusters, init = 'k-means++', max_iter = 300, n_init = 10, random_state = 0)\n",
    "y_kmeans_train = kmeans.fit_predict(X_train_group)\n",
    "X_test_group = test_dataset.drop(\"Age\", axis = 1).as_matrix()\n",
    "y_kmeans_test = kmeans.predict(X_test_group)\n",
    "\n",
    "group_train = pd.DataFrame(data = y_kmeans_train,\n",
    "                            columns = [\"Group\"])\n",
    "group_test = pd.DataFrame(data = y_kmeans_test,\n",
    "                           columns = [\"Group\"])\n",
    "train_dataset = pd.concat([train_dataset, group_train], axis=1)\n",
    "test_dataset = pd.concat([test_dataset, group_test], axis=1)\n",
    "train_age = train_dataset[[\"Group\", \"Age\"]].groupby(['Group']).agg([np.nanmean, np.nanstd])\n",
    "test_age = test_dataset[[\"Group\", \"Age\"]].groupby(['Group']).agg([np.nanmean, np.nanstd])\n",
    "train_random_ages = list()\n",
    "for i in range(clusters):\n",
    "    if train_dataset[(train_dataset[\"Age\"].isnull()) & (train_dataset[\"Group\"] == i)].shape[0] == 0:\n",
    "        train_random_ages.append(list())\n",
    "    else:\n",
    "        train_random_ages.append(np.random.randint(train_age.iloc[i,0] - train_age.iloc[i,1],\n",
    "                                train_age.iloc[i,0] + train_age.iloc[i,1],\n",
    "                                size = train_dataset[(train_dataset[\"Age\"].isnull()) & (train_dataset[\"Group\"] == i)].shape[0]))\n",
    "test_random_ages = list()\n",
    "for i in range(4):\n",
    "    if test_dataset[(test_dataset[\"Age\"].isnull()) & (test_dataset[\"Group\"] == i)].shape[0] == 0:\n",
    "        test_random_ages.append(list())\n",
    "    else:\n",
    "        test_random_ages.append(np.random.randint(test_age.iloc[i,0] - test_age.iloc[i,1],\n",
    "                                test_age.iloc[i,0] + test_age.iloc[i,1],\n",
    "                                size = test_dataset[(test_dataset[\"Age\"].isnull()) & (test_dataset[\"Group\"] == i)].shape[0]))  \n",
    "        \n",
    "for i in range(clusters):\n",
    "    if len(train_random_ages[i]) == 0:\n",
    "        pass\n",
    "    else:\n",
    "        train_dataset.loc[(train_dataset[\"Age\"].isnull()) & (train_dataset[\"Group\"] == i),\"Age\"] = train_random_ages[i]\n",
    "for i in range(4):\n",
    "    if len(test_random_ages[i]) == 0:\n",
    "        pass\n",
    "    else:\n",
    "        test_dataset.loc[(test_dataset[\"Age\"].isnull()) & (test_dataset[\"Group\"] == i),\"Age\"] = test_random_ages[i]\n",
    "\n",
    "\n",
    "nans2 = pd.concat([train_dataset.isnull().sum(), test_dataset.isnull().sum()],\n",
    "                 axis=1,\n",
    "                 keys=['Training Set', 'Test Set'])"
   ]
  },
  {
   "cell_type": "code",
   "execution_count": 29,
   "metadata": {},
   "outputs": [],
   "source": [
    "for dataset in [train_dataset, test_dataset]:\n",
    "    dataset['Age*Class'] = dataset.Age * dataset.Pclass"
   ]
  },
  {
   "cell_type": "code",
   "execution_count": 30,
   "metadata": {},
   "outputs": [],
   "source": [
    "def make_labels(feature, name, train_dataset = train_dataset, test_dataset = test_dataset):\n",
    "    label_binarizer = LabelBinarizer()\n",
    "    pclass_train = pd.DataFrame(data = label_binarizer.fit_transform(train_dataset[feature]),\n",
    "                                columns = [name + \" \" + str(x) for x in label_binarizer.classes_])\n",
    "    pclass_test = pd.DataFrame(data = label_binarizer.transform(test_dataset[feature]),\n",
    "                               columns = [name + \" \" + str(x) for x in label_binarizer.classes_])\n",
    "    train_dataset = train_dataset.drop(feature, axis = 1)\n",
    "    test_dataset = test_dataset.drop(feature, axis = 1)\n",
    "    train_dataset = pd.concat([train_dataset, pclass_train], axis=1)\n",
    "    test_dataset = pd.concat([test_dataset, pclass_test], axis=1)  \n",
    "    return train_dataset, test_dataset"
   ]
  },
  {
   "cell_type": "code",
   "execution_count": 31,
   "metadata": {},
   "outputs": [],
   "source": [
    "for i,j in zip([\"Pclass\", \"Title\"], [\"Class\", \"Title\"]):\n",
    "    train_dataset, test_dataset = make_labels(i,j)"
   ]
  },
  {
   "cell_type": "code",
   "execution_count": 32,
   "metadata": {},
   "outputs": [],
   "source": [
    "del train_dataset[\"Group\"], test_dataset[\"Group\"]"
   ]
  },
  {
   "cell_type": "code",
   "execution_count": 33,
   "metadata": {},
   "outputs": [
    {
     "data": {
      "text/html": [
       "<div>\n",
       "<style scoped>\n",
       "    .dataframe tbody tr th:only-of-type {\n",
       "        vertical-align: middle;\n",
       "    }\n",
       "\n",
       "    .dataframe tbody tr th {\n",
       "        vertical-align: top;\n",
       "    }\n",
       "\n",
       "    .dataframe thead th {\n",
       "        text-align: right;\n",
       "    }\n",
       "</style>\n",
       "<table border=\"1\" class=\"dataframe\">\n",
       "  <thead>\n",
       "    <tr style=\"text-align: right;\">\n",
       "      <th></th>\n",
       "      <th>Training Set</th>\n",
       "      <th>Test Set</th>\n",
       "    </tr>\n",
       "  </thead>\n",
       "  <tbody>\n",
       "  </tbody>\n",
       "</table>\n",
       "</div>"
      ],
      "text/plain": [
       "Empty DataFrame\n",
       "Columns: [Training Set, Test Set]\n",
       "Index: []"
      ]
     },
     "execution_count": 33,
     "metadata": {},
     "output_type": "execute_result"
    }
   ],
   "source": [
    "nans2[nans2.sum(axis=1)>0].astype(int)"
   ]
  },
  {
   "cell_type": "code",
   "execution_count": 34,
   "metadata": {},
   "outputs": [
    {
     "data": {
      "text/html": [
       "<div>\n",
       "<style scoped>\n",
       "    .dataframe tbody tr th:only-of-type {\n",
       "        vertical-align: middle;\n",
       "    }\n",
       "\n",
       "    .dataframe tbody tr th {\n",
       "        vertical-align: top;\n",
       "    }\n",
       "\n",
       "    .dataframe thead th {\n",
       "        text-align: right;\n",
       "    }\n",
       "</style>\n",
       "<table border=\"1\" class=\"dataframe\">\n",
       "  <thead>\n",
       "    <tr style=\"text-align: right;\">\n",
       "      <th></th>\n",
       "      <th>Pclass</th>\n",
       "      <th>Sex</th>\n",
       "      <th>Age</th>\n",
       "      <th>SibSp</th>\n",
       "      <th>Parch</th>\n",
       "      <th>Fare</th>\n",
       "      <th>Cabin</th>\n",
       "      <th>C</th>\n",
       "      <th>Q</th>\n",
       "      <th>S</th>\n",
       "      <th>Age*Class</th>\n",
       "      <th>Title 1</th>\n",
       "      <th>Title 2</th>\n",
       "      <th>Title 3</th>\n",
       "      <th>Title 4</th>\n",
       "      <th>Title 5</th>\n",
       "    </tr>\n",
       "  </thead>\n",
       "  <tbody>\n",
       "    <tr>\n",
       "      <th>0</th>\n",
       "      <td>3</td>\n",
       "      <td>0</td>\n",
       "      <td>22.0</td>\n",
       "      <td>1</td>\n",
       "      <td>0</td>\n",
       "      <td>7.2500</td>\n",
       "      <td>0</td>\n",
       "      <td>0.0</td>\n",
       "      <td>0.0</td>\n",
       "      <td>1.0</td>\n",
       "      <td>66.0</td>\n",
       "      <td>1</td>\n",
       "      <td>0</td>\n",
       "      <td>0</td>\n",
       "      <td>0</td>\n",
       "      <td>0</td>\n",
       "    </tr>\n",
       "    <tr>\n",
       "      <th>1</th>\n",
       "      <td>1</td>\n",
       "      <td>1</td>\n",
       "      <td>38.0</td>\n",
       "      <td>1</td>\n",
       "      <td>0</td>\n",
       "      <td>71.2833</td>\n",
       "      <td>1</td>\n",
       "      <td>1.0</td>\n",
       "      <td>0.0</td>\n",
       "      <td>0.0</td>\n",
       "      <td>38.0</td>\n",
       "      <td>0</td>\n",
       "      <td>0</td>\n",
       "      <td>0</td>\n",
       "      <td>0</td>\n",
       "      <td>1</td>\n",
       "    </tr>\n",
       "    <tr>\n",
       "      <th>2</th>\n",
       "      <td>3</td>\n",
       "      <td>1</td>\n",
       "      <td>26.0</td>\n",
       "      <td>0</td>\n",
       "      <td>0</td>\n",
       "      <td>7.9250</td>\n",
       "      <td>0</td>\n",
       "      <td>0.0</td>\n",
       "      <td>0.0</td>\n",
       "      <td>1.0</td>\n",
       "      <td>78.0</td>\n",
       "      <td>0</td>\n",
       "      <td>0</td>\n",
       "      <td>0</td>\n",
       "      <td>1</td>\n",
       "      <td>0</td>\n",
       "    </tr>\n",
       "    <tr>\n",
       "      <th>3</th>\n",
       "      <td>1</td>\n",
       "      <td>1</td>\n",
       "      <td>35.0</td>\n",
       "      <td>1</td>\n",
       "      <td>0</td>\n",
       "      <td>53.1000</td>\n",
       "      <td>1</td>\n",
       "      <td>0.0</td>\n",
       "      <td>0.0</td>\n",
       "      <td>1.0</td>\n",
       "      <td>35.0</td>\n",
       "      <td>0</td>\n",
       "      <td>0</td>\n",
       "      <td>0</td>\n",
       "      <td>0</td>\n",
       "      <td>1</td>\n",
       "    </tr>\n",
       "    <tr>\n",
       "      <th>4</th>\n",
       "      <td>3</td>\n",
       "      <td>0</td>\n",
       "      <td>35.0</td>\n",
       "      <td>0</td>\n",
       "      <td>0</td>\n",
       "      <td>8.0500</td>\n",
       "      <td>0</td>\n",
       "      <td>0.0</td>\n",
       "      <td>0.0</td>\n",
       "      <td>1.0</td>\n",
       "      <td>105.0</td>\n",
       "      <td>1</td>\n",
       "      <td>0</td>\n",
       "      <td>0</td>\n",
       "      <td>0</td>\n",
       "      <td>0</td>\n",
       "    </tr>\n",
       "  </tbody>\n",
       "</table>\n",
       "</div>"
      ],
      "text/plain": [
       "   Pclass  Sex   Age  SibSp  Parch     Fare  Cabin    C    Q    S  Age*Class  \\\n",
       "0       3    0  22.0      1      0   7.2500      0  0.0  0.0  1.0       66.0   \n",
       "1       1    1  38.0      1      0  71.2833      1  1.0  0.0  0.0       38.0   \n",
       "2       3    1  26.0      0      0   7.9250      0  0.0  0.0  1.0       78.0   \n",
       "3       1    1  35.0      1      0  53.1000      1  0.0  0.0  1.0       35.0   \n",
       "4       3    0  35.0      0      0   8.0500      0  0.0  0.0  1.0      105.0   \n",
       "\n",
       "   Title 1  Title 2  Title 3  Title 4  Title 5  \n",
       "0        1        0        0        0        0  \n",
       "1        0        0        0        0        1  \n",
       "2        0        0        0        1        0  \n",
       "3        0        0        0        0        1  \n",
       "4        1        0        0        0        0  "
      ]
     },
     "execution_count": 34,
     "metadata": {},
     "output_type": "execute_result"
    }
   ],
   "source": [
    "train_dataset.head()"
   ]
  },
  {
   "cell_type": "markdown",
   "metadata": {},
   "source": [
    "# Implementation of Classification Algorithms"
   ]
  },
  {
   "cell_type": "code",
   "execution_count": 35,
   "metadata": {},
   "outputs": [
    {
     "name": "stdout",
     "output_type": "stream",
     "text": [
      "--------Implementation of Classification Algorithms----\n"
     ]
    }
   ],
   "source": [
    "print(\"--------Implementation of Classification Algorithms----\")"
   ]
  },
  {
   "cell_type": "code",
   "execution_count": 36,
   "metadata": {},
   "outputs": [],
   "source": [
    "Y_train = survived.values\n",
    "train = train_dataset.values\n",
    "test = test_dataset.values"
   ]
  },
  {
   "cell_type": "code",
   "execution_count": 37,
   "metadata": {},
   "outputs": [],
   "source": [
    "sc = StandardScaler()\n",
    "X_train = sc.fit_transform(train)\n",
    "X_test = sc.transform(test)"
   ]
  },
  {
   "cell_type": "code",
   "execution_count": 38,
   "metadata": {},
   "outputs": [
    {
     "name": "stdout",
     "output_type": "stream",
     "text": [
      "--------Split training set into two sets for evaluation--------\n"
     ]
    }
   ],
   "source": [
    "print(\"--------Split training set into two sets for evaluation--------\")\n",
    "x_train, x_test, y_train, y_test = train_test_split(X_train, Y_train, test_size = 0.2, random_state = 0)"
   ]
  },
  {
   "cell_type": "code",
   "execution_count": 39,
   "metadata": {},
   "outputs": [],
   "source": [
    "def prediction(classifier, x_train = x_train, y_train = y_train, x_test = x_test):\n",
    "    classifier.fit(x_train, y_train)\n",
    "    return classifier.predict(x_test)\n",
    "\n",
    "def crossvalscore(estimator, x_train = x_train, y_train = y_train):\n",
    "    accuracies = cross_val_score(estimator, X = x_train, y = y_train, cv = 10)\n",
    "    return accuracies.mean()\n",
    "\n",
    "def auc(classifier, x_train = x_train, y_train = y_train, x_test = x_test, y_test = y_test):\n",
    "    return roc_auc_score(y_test, prediction(classifier))\n",
    "\n",
    "def g_s(estimator, parameters, x_train = x_train, y_train = y_train):\n",
    "    grid_search = GridSearchCV(estimator = estimator,\n",
    "                              param_grid = parameters,\n",
    "                              scoring = 'accuracy',\n",
    "                              cv = 10,\n",
    "                              n_jobs = -1)\n",
    "    grid_search.fit(x_train, y_train)\n",
    "    return grid_search.best_params_"
   ]
  },
  {
   "cell_type": "code",
   "execution_count": 40,
   "metadata": {},
   "outputs": [
    {
     "name": "stdout",
     "output_type": "stream",
     "text": [
      "-----------Set the parameters for Grid Search------------\n"
     ]
    }
   ],
   "source": [
    "print(\"-----------Set the parameters for Grid Search------------\")\n",
    "parameters_svm = [{'C' : [0.1, 1, 10, 100], 'kernel' : ['rbf'], 'gamma' : [0.1, 0.01, 0.001, 0.0001], 'random_state' : [0], \"tol\" : [0.1, 0.01, 0.001, 0.0001]}]\n",
    "parameters_rf = [{'n_estimators' : [50, 100, 150, 200, 300, 400, 500, 600, 700, 800], 'criterion': ['entropy', \"gini\"], 'random_state' : [0]}]\n",
    "parameters_knn = [{'n_neighbors' : [2, 5, 10, 25, 50, 100, 200, 400], 'metric' : ['minkowski'], 'p': [1,2], \"n_jobs\" : [-1]}]\n",
    "parameters_xgb = [{'max_depth' : [1,2,3,4,5], 'learning_rate' : [0.1,0.01,0.001], 'n_estimators' : [100, 150, 175, 180, 200]}]\n",
    "parameters_lr = [{'penalty' : ['l1', 'l2'], \"tol\" : [0.001, 0.0001, 0.00001], \"C\" : [0.1, 1, 10], \"class_weight\" : [None, \"balanced\"], \"random_state\" : [0], \"n_jobs\" : [-1]}]"
   ]
  },
  {
   "cell_type": "code",
   "execution_count": 41,
   "metadata": {},
   "outputs": [
    {
     "name": "stdout",
     "output_type": "stream",
     "text": [
      "-------------Set optimal values to the Classfiers----------\n"
     ]
    }
   ],
   "source": [
    "print(\"-------------Set optimal values to the Classfiers----------\")\n",
    "classifier_rf = RandomForestClassifier(**g_s(RandomForestClassifier(), parameters_rf))\n",
    "classifier_dt = DecisionTreeClassifier(criterion = 'entropy', random_state = 0)\n",
    "classifier_rbf = SVC(**g_s(SVC(kernel = 'rbf'), parameters_svm))\n",
    "classifier_svm = SVC(kernel = 'linear', random_state = 0)\n",
    "classifier_nb = GaussianNB()\n",
    "classifier_knn = KNeighborsClassifier(**g_s(KNeighborsClassifier(), parameters_knn))\n",
    "classifier_lr = LogisticRegression(**g_s(LogisticRegression(), parameters_lr))\n",
    "classifier_xgb = XGBClassifier(**g_s(XGBClassifier(), parameters_xgb))"
   ]
  },
  {
   "cell_type": "code",
   "execution_count": 42,
   "metadata": {},
   "outputs": [],
   "source": [
    "def ann(x_train = x_train, y_train = y_train):\n",
    "    classifier = Sequential()\n",
    "    o = x_train.shape[1] //2\n",
    "    classifier.add(Dense(output_dim = o, init = 'uniform', activation = 'tanh', input_dim = x_train.shape[1]))\n",
    "    while o > 2:\n",
    "        o = o//2\n",
    "        classifier.add(Dense(output_dim = o, init = 'uniform', activation = 'tanh'))\n",
    "        classifier.add(Dense(output_dim = o, init = 'uniform', activation = 'tanh'))\n",
    "    classifier.add(Dense(output_dim = 1, init = 'uniform', activation = 'sigmoid'))\n",
    "    classifier.compile(optimizer = 'RMSprop', loss = 'binary_crossentropy', metrics = ['accuracy'])\n",
    "    return classifier\n",
    "\n",
    "classifier_ann = ann()"
   ]
  },
  {
   "cell_type": "code",
   "execution_count": 43,
   "metadata": {},
   "outputs": [],
   "source": [
    "def pred_ann_train(x_train = x_train, y_train = y_train, x_test = x_test):\n",
    "    ann_class = ann()\n",
    "    ann_class.fit(x_train, y_train, epochs=150, batch_size=30,verbose = 0)\n",
    "    y_pred_ann = ann_class.predict(x_test)\n",
    "    y_pred_ann = np.array([1 if y >= 0.5 else 0 for y in y_pred_ann])\n",
    "    return y_pred_ann\n",
    "y_pred_ann = pred_ann_train()"
   ]
  },
  {
   "cell_type": "code",
   "execution_count": 44,
   "metadata": {},
   "outputs": [],
   "source": [
    "model = KerasClassifier(build_fn=ann, epochs=80, batch_size=30, verbose=0)\n",
    "kfold = StratifiedKFold(n_splits=10, shuffle=True, random_state=0)\n",
    "ann_results = cross_val_score(model, x_train, y_train, scoring=\"accuracy\", cv=kfold).mean()"
   ]
  },
  {
   "cell_type": "code",
   "execution_count": 45,
   "metadata": {},
   "outputs": [],
   "source": [
    "algorithms = {'Kernel_SVM' : classifier_rbf,\n",
    "             'Random Forest' : classifier_rf,\n",
    "             'SVM' : classifier_svm,\n",
    "             'Decision_Tree' : classifier_dt,\n",
    "             'Naive_Bayes' : classifier_nb,\n",
    "             'KNN' : classifier_knn,\n",
    "             'Logistic_Regression' : classifier_lr,\n",
    "             'XGBoost' : classifier_xgb}"
   ]
  },
  {
   "cell_type": "code",
   "execution_count": 46,
   "metadata": {},
   "outputs": [
    {
     "data": {
      "text/html": [
       "<div>\n",
       "<style scoped>\n",
       "    .dataframe tbody tr th:only-of-type {\n",
       "        vertical-align: middle;\n",
       "    }\n",
       "\n",
       "    .dataframe tbody tr th {\n",
       "        vertical-align: top;\n",
       "    }\n",
       "\n",
       "    .dataframe thead th {\n",
       "        text-align: right;\n",
       "    }\n",
       "</style>\n",
       "<table border=\"1\" class=\"dataframe\">\n",
       "  <thead>\n",
       "    <tr style=\"text-align: right;\">\n",
       "      <th></th>\n",
       "      <th>Cross Val Score</th>\n",
       "      <th>AUC</th>\n",
       "      <th>Accuracy</th>\n",
       "      <th>F1 Score</th>\n",
       "    </tr>\n",
       "  </thead>\n",
       "  <tbody>\n",
       "    <tr>\n",
       "      <th>Kernel_SVM</th>\n",
       "      <td>0.84</td>\n",
       "      <td>0.80</td>\n",
       "      <td>0.81</td>\n",
       "      <td>0.75</td>\n",
       "    </tr>\n",
       "    <tr>\n",
       "      <th>Random Forest</th>\n",
       "      <td>0.80</td>\n",
       "      <td>0.81</td>\n",
       "      <td>0.83</td>\n",
       "      <td>0.77</td>\n",
       "    </tr>\n",
       "    <tr>\n",
       "      <th>SVM</th>\n",
       "      <td>0.83</td>\n",
       "      <td>0.81</td>\n",
       "      <td>0.82</td>\n",
       "      <td>0.76</td>\n",
       "    </tr>\n",
       "    <tr>\n",
       "      <th>Decision_Tree</th>\n",
       "      <td>0.77</td>\n",
       "      <td>0.77</td>\n",
       "      <td>0.79</td>\n",
       "      <td>0.72</td>\n",
       "    </tr>\n",
       "    <tr>\n",
       "      <th>Naive_Bayes</th>\n",
       "      <td>0.80</td>\n",
       "      <td>0.80</td>\n",
       "      <td>0.79</td>\n",
       "      <td>0.76</td>\n",
       "    </tr>\n",
       "    <tr>\n",
       "      <th>KNN</th>\n",
       "      <td>0.82</td>\n",
       "      <td>0.79</td>\n",
       "      <td>0.80</td>\n",
       "      <td>0.74</td>\n",
       "    </tr>\n",
       "    <tr>\n",
       "      <th>Logistic_Regression</th>\n",
       "      <td>0.83</td>\n",
       "      <td>0.81</td>\n",
       "      <td>0.82</td>\n",
       "      <td>0.77</td>\n",
       "    </tr>\n",
       "    <tr>\n",
       "      <th>XGBoost</th>\n",
       "      <td>0.83</td>\n",
       "      <td>0.80</td>\n",
       "      <td>0.81</td>\n",
       "      <td>0.75</td>\n",
       "    </tr>\n",
       "    <tr>\n",
       "      <th>Artificial_Neural_Network</th>\n",
       "      <td>0.82</td>\n",
       "      <td>0.78</td>\n",
       "      <td>0.81</td>\n",
       "      <td>0.73</td>\n",
       "    </tr>\n",
       "  </tbody>\n",
       "</table>\n",
       "</div>"
      ],
      "text/plain": [
       "                           Cross Val Score   AUC  Accuracy  F1 Score\n",
       "Kernel_SVM                            0.84  0.80      0.81      0.75\n",
       "Random Forest                         0.80  0.81      0.83      0.77\n",
       "SVM                                   0.83  0.81      0.82      0.76\n",
       "Decision_Tree                         0.77  0.77      0.79      0.72\n",
       "Naive_Bayes                           0.80  0.80      0.79      0.76\n",
       "KNN                                   0.82  0.79      0.80      0.74\n",
       "Logistic_Regression                   0.83  0.81      0.82      0.77\n",
       "XGBoost                               0.83  0.80      0.81      0.75\n",
       "Artificial_Neural_Network             0.82  0.78      0.81      0.73"
      ]
     },
     "execution_count": 46,
     "metadata": {},
     "output_type": "execute_result"
    }
   ],
   "source": [
    "results = pd.DataFrame(data = OrderedDict([(\"Cross Val Score\" , list(map(lambda x: round(crossvalscore(x),2),algorithms.values()))),\n",
    "                                            (\"AUC\" , list(map(lambda x: round(auc(x),2),algorithms.values()))),\n",
    "                                             (\"Accuracy\" , list(map(lambda x : round(accuracy_score(y_test, prediction(x)),2), algorithms.values()))),\n",
    "                                             (\"F1 Score\" , list(map(lambda x : round(f1_score(y_test, prediction(x)),2), algorithms.values())))\n",
    "                                                            ]),\n",
    "                        index = algorithms.keys())\n",
    "res_ann = pd.DataFrame(data = OrderedDict([(\"Cross Val Score\", round(ann_results,2)),\n",
    "                                            (\"AUC\" , round(roc_auc_score(y_test,y_pred_ann),2)),\n",
    "                                            (\"Accuracy\" , round(accuracy_score(y_test,y_pred_ann),2)),\n",
    "                                             (\"F1 Score\" , round(f1_score(y_test,y_pred_ann),2))\n",
    "                                            ]),\n",
    "                        index = [\"Artificial_Neural_Network\"])\n",
    "results = results.append(res_ann)\n",
    "results"
   ]
  },
  {
   "cell_type": "code",
   "execution_count": 47,
   "metadata": {},
   "outputs": [
    {
     "name": "stdout",
     "output_type": "stream",
     "text": [
      "Exported results of Kernel_SVM algorithm\n",
      "Exported results of Random Forest algorithm\n",
      "Exported results of SVM algorithm\n",
      "Exported results of Decision_Tree algorithm\n",
      "Exported results of Naive_Bayes algorithm\n",
      "Exported results of KNN algorithm\n",
      "Exported results of Logistic_Regression algorithm\n",
      "Exported results of XGBoost algorithm\n",
      "Exported results of Artificial_Neural_Network algorithm\n"
     ]
    }
   ],
   "source": [
    "directory_results = \"./results\"\n",
    "if not os.path.exists(directory_results):\n",
    "    os.makedirs(directory_results)\n",
    "\n",
    "for name,classifier in algorithms.items():\n",
    "    classifier.fit(X_train, Y_train)\n",
    "    Y_pred = classifier.predict(X_test)\n",
    "    submission = pd.DataFrame({\n",
    "        \"PassengerId\": test_passenger_id,\n",
    "        \"Survived\": Y_pred\n",
    "    })\n",
    "    submission.to_csv(directory_results + '/' + name + '.csv', index=False)\n",
    "    print(\"Exported results of \" + name + \" algorithm\")\n",
    "\n",
    "ann_class = ann()\n",
    "ann_class.fit(X_train, Y_train, epochs=150, batch_size=30, verbose = 0)\n",
    "Y_pred_ann = ann_class.predict(X_test)\n",
    "Y_pred_ann = [1 if y >= 0.5 else 0 for y in Y_pred_ann]\n",
    "submission = pd.DataFrame({\n",
    "        \"PassengerId\": test_passenger_id,\n",
    "        \"Survived\": Y_pred_ann\n",
    "    })\n",
    "submission.to_csv(directory_results + '/Artificial_Neural_Network.csv', index=False)\n",
    "print(\"Exported results of Artificial_Neural_Network algorithm\")"
   ]
  },
  {
   "cell_type": "code",
   "execution_count": null,
   "metadata": {},
   "outputs": [],
   "source": []
  }
 ],
 "metadata": {
  "kernelspec": {
   "display_name": "Python 3",
   "language": "python",
   "name": "python3"
  },
  "language_info": {
   "codemirror_mode": {
    "name": "ipython",
    "version": 3
   },
   "file_extension": ".py",
   "mimetype": "text/x-python",
   "name": "python",
   "nbconvert_exporter": "python",
   "pygments_lexer": "ipython3",
   "version": "3.6.4"
  }
 },
 "nbformat": 4,
 "nbformat_minor": 2
}
